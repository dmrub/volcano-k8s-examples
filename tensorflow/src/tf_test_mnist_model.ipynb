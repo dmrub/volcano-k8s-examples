{
 "cells": [
  {
   "cell_type": "code",
   "execution_count": null,
   "metadata": {},
   "outputs": [],
   "source": [
    "!pip install matplotlib\n",
    "import tensorflow as tf\n",
    "from tensorflow import keras\n",
    "\n",
    "# Helper libraries\n",
    "import numpy as np\n",
    "import matplotlib.pyplot as plt\n",
    "import os\n",
    "\n",
    "print('TensorFlow version: {}'.format(tf.__version__))"
   ]
  },
  {
   "cell_type": "code",
   "execution_count": null,
   "metadata": {},
   "outputs": [],
   "source": [
    "# load data\n",
    "print(\"Loading Keras version MNIST data into memory\")\n",
    "_, (test_images, test_labels) = keras.datasets.mnist.load_data()\n",
    "# reshape for feeding into the model\n",
    "print(\"Number of pictures for testing\", test_images.shape[0])\n",
    "test_images = test_images.reshape(test_images.shape[0], 28, 28, 1).astype(np.float32)\n",
    "# scale the values to 0.0 to 1.0\n",
    "test_images /= 255\n",
    "print()\n",
    "print('test_images.shape: {}, of {}'.format(test_images.shape, test_images.dtype))\n",
    "\n",
    "test_labels = keras.utils.to_categorical(test_labels, 10).astype(np.float32)"
   ]
  },
  {
   "cell_type": "code",
   "execution_count": null,
   "metadata": {},
   "outputs": [],
   "source": [
    "model = tf.keras.models.load_model('./keras-model')\n",
    "\n",
    "# Check its architecture\n",
    "model.summary()"
   ]
  },
  {
   "cell_type": "code",
   "execution_count": null,
   "metadata": {},
   "outputs": [],
   "source": [
    "# use model\n",
    "print(\"Using model to predict dummy digit image: \")\n",
    "\n",
    "def show(idx, title):\n",
    "  plt.figure()\n",
    "  plt.imshow(test_images[idx].reshape(28,28))\n",
    "  plt.axis('off')\n",
    "  plt.title('\\n\\n{}'.format(title), fontdict={'size': 16})\n",
    "  plt.show()\n",
    "\n",
    "class_names = [\"zero\", \"one\", \"two\", \"three\", \"four\", \"five\", \n",
    "        \"six\", \"seven\", \"eight\", \"nine\"]\n",
    "\n",
    "def class_name(result):\n",
    "  num = np.argmax(result)\n",
    "  return class_names[num]\n",
    "\n",
    "\n",
    "import random\n",
    "rnd_idx = random.randint(0, len(test_images)-1)\n",
    "show(rnd_idx, 'An Example Image: {}'.format(class_name(test_labels[rnd_idx])))\n",
    "\n",
    "#unknown = np.zeros(shape=(28,28), dtype=np.float32)\n",
    "#for row in range(5,23): unknown[row][9] = 180  # vertical line\n",
    "#for rc in range(9,19): unknown[rc][rc] = 250   # diagonal line\n",
    "#plt.imshow(unknown, cmap=plt.get_cmap('gray_r'))\n",
    "#plt.show()\n",
    "\n",
    "#test_images[rnd_idx].reshape(1, 28, 28, 1)\n",
    "\n",
    "#unknown = unknown.reshape(1, 28,28,1)\n",
    "predicted = model.predict(test_images[rnd_idx].reshape(1, 28, 28, 1))\n",
    "print(\"\\nPredicted digit is: \")\n",
    "print(np.argmax(predicted[0]))"
   ]
  }
 ],
 "metadata": {
  "kernelspec": {
   "display_name": "Python 3 (ipykernel)",
   "language": "python",
   "name": "python3"
  },
  "language_info": {
   "codemirror_mode": {
    "name": "ipython",
    "version": 3
   },
   "file_extension": ".py",
   "mimetype": "text/x-python",
   "name": "python",
   "nbconvert_exporter": "python",
   "pygments_lexer": "ipython3",
   "version": "3.8.10"
  },
  "orig_nbformat": 4,
  "vscode": {
   "interpreter": {
    "hash": "31f2aee4e71d21fbe5cf8b01ff0e069b9275f58929596ceb00d14d90e3e16cd6"
   }
  }
 },
 "nbformat": 4,
 "nbformat_minor": 2
}
